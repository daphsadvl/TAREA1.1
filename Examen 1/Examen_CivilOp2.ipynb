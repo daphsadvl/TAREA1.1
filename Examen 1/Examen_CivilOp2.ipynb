{
 "cells": [
  {
   "cell_type": "markdown",
   "metadata": {},
   "source": [
    "# Examen Módulo 1 - Ecuaciones diferenciales. <font color =blue> Tipo de examen 1.  </font>\n",
    "\n",
    "Lea cuidadosamente las siguientes indicaciones antes de comenzar el examen:\n",
    "\n",
    "- Para resolver el examen edite este mismo archivo y renómbrelo de la siguiente manera: *Examen1_ApellidoNombre*, donde *ApellidoNombre* corresponde a su apellido paterno con la inicial en mayúscula, seguido de su primer nombre con la inicial en mayúscula **sin acentos**. Por ejemplo, en mi caso el nombre del archivo sería Examen1_LopezMichel.\n",
    "- Resuelva los puntos en el espacio provisto. Si requiere agregar más celdas para código o escritura, hágalo.\n",
    "- Recuerde que también se está evaluando su capacidad de interpretar los resultados. Escriba sus interpretaciones/conclusiones en celdas utilizando *Markdown*.\n",
    "- El formato de presentación de todo el examen en general debe ser adecuado. Use tamaños de letra, colores, etiquetas, etcétera.\n",
    "- No se resuelven dudas de ningún tipo por los profesores de la asignatura. Por favor, absténgase de preguntar.\n",
    "- Revise bien el tipo de examen. Sólo se le calificará si realiza el tipo de examen asignado."
   ]
  },
  {
   "cell_type": "code",
   "execution_count": 5,
   "metadata": {
    "collapsed": true
   },
   "outputs": [],
   "source": [
    "%matplotlib inline \n",
    "\n",
    "import sympy as sym\n",
    "import numpy as np\n",
    "import matplotlib.pylab as plt\n",
    "\n",
    "from sympy import init_printing; init_printing(use_latex='mathjax')\n",
    "from IPython.display import display\n",
    "from IPython.display import HTML\n",
    "from scipy.integrate import odeint\n",
    "from ipywidgets import *\n",
    "\n",
    "Ley_Newton_enfriamiento='<iframe src=https://es.wikipedia.org/wiki/Ley_del_enfriamiento_de_Newton?useformat=mobile width=700 height=350></iframe>'\n",
    "Torricelli='<iframe src=https://en.wikipedia.org/wiki/Torricelli%27s_law?useformat=mobile width=700 height=350></iframe>'\n",
    "\n",
    "\n",
    "sym.var('k t x')\n",
    "\n",
    "T = sym.Function('T')"
   ]
  },
  {
   "cell_type": "markdown",
   "metadata": {},
   "source": [
    "# Primer punto (50 puntos).\n",
    "\n",
    "## Introducción al problema. \n",
    "\n",
    "## Ley de Newton del enfriamiento\n",
    "\n",
    "La ley empírica de Newton, relativa al enfriamiento de un objeto, se expresa con la ecuación diferencial lineal de primer orden\n",
    "\n",
    "$$\\frac{dT}{dt} = k(T - Tm) $$\n",
    "\n",
    "en que $k$ es una constante de proporcionalidad, $T(r)$ es la temperatura del objeto cuando $t > 0$\n",
    "y $T_m$ es la temperatura ambiente; o sea, la temperatura del medio que rodea al objeto. \n",
    "\n",
    "Supondremos que $T_m$ es constante."
   ]
  },
  {
   "cell_type": "markdown",
   "metadata": {},
   "source": [
    "### Para más información revise la siguiente pagina. "
   ]
  },
  {
   "cell_type": "code",
   "execution_count": 2,
   "metadata": {
    "collapsed": true
   },
   "outputs": [],
   "source": [
    "HTML(Ley_Newton_enfriamiento)"
   ]
  },
  {
   "cell_type": "markdown",
   "metadata": {},
   "source": [
    "# <font color = red> Problema 1 <font>\n",
    "\n",
    "## ¿Cuánto esperar para comenzar a comer pastel?\n",
    "\n",
    "Al sacar un pastel del horno, su temperatura es $280°C$. Después de $3$ minutos, $2OO°C$. ¿En cuanto tiempo se enfriará hasta la temperatura ambiente de $28°C$? Realiza las siguientes actividades:\n",
    "\n",
    "1. (20 puntos) Simula el sistema en un tiempo de $0$ a $60$ unidades de tiempo  con una constante de proporcionalidad $k=-0.14518$,  \n",
    "2. (15 puntos) \n",
    "    - (10 puntos) Grafique la solución.\n",
    "    - (5 puntos) Supoga que cada unidad de tiempo corresponde a un minuto. ¿En que tiempo aproximadamente la temperatura es menor a $150°C$?\n",
    "3. (15 puntos)\n",
    "    - (10 puntos) ¿Qué interpretación puedes decir para valores de $k >0$?\n",
    "    - (5  puntos) Busca una constante de proporcionalidad $k$ en un rango ( de $-0.2$ a $0.2$ con incremento de 0.01), para la cual el pastel se puede comer a una temperatura menor a $50°C$ en un tiempo a 10 minutos."
   ]
  },
  {
   "cell_type": "code",
   "execution_count": 332,
   "metadata": {
    "collapsed": true
   },
   "outputs": [],
   "source": [
    "import numpy as np\n",
    "from scipy.integrate import odeint\n",
    "import matplotlib.pyplot as plt\n",
    "%matplotlib inline\n"
   ]
  },
  {
   "cell_type": "code",
   "execution_count": 339,
   "metadata": {
    "collapsed": true
   },
   "outputs": [],
   "source": [
    "import matplotlib as mpl\n",
    "label_size =12\n",
    "mpl.rcParams[\"xtick.labelsize\"]= label_size\n",
    "mpl.rcParams[\"ytick.labelsize\"]= label_size"
   ]
  },
  {
   "cell_type": "code",
   "execution_count": 340,
   "metadata": {
    "collapsed": true
   },
   "outputs": [],
   "source": [
    "k = -0.14518\n",
    "def enfriamiento(T, t):\n",
    "    return k*(T- 28)"
   ]
  },
  {
   "cell_type": "code",
   "execution_count": 341,
   "metadata": {},
   "outputs": [
    {
     "data": {
      "image/png": "[encoded data removed]",
      "text/plain": [
       "<matplotlib.figure.Figure at 0xde567668d0>"
      ]
     },
     "metadata": {},
     "output_type": "display_data"
    }
   ],
   "source": [
    "x0=280\n",
    "t= np.arange(0,60,1)\n",
    "T= odeint(enfriamiento, x0, t)\n",
    "plt.plot(t,T)\n",
    "plt.xlabel(\"$t$\", fontsize =18)\n",
    "plt.ylabel(\"$Temperatura$\", fontsize =18)\n",
    "plt.show()"
   ]
  },
  {
   "cell_type": "markdown",
   "metadata": {},
   "source": [
    "# Respuestas Eje 1."
   ]
  },
  {
   "cell_type": "markdown",
   "metadata": {},
   "source": [
    "## ¿En que tiempo aproximadamente la temperatura es menor a  150°C ?\n",
    "   \n",
    " ##### R=  aproximadamente en 5 seg"
   ]
  },
  {
   "cell_type": "code",
   "execution_count": 347,
   "metadata": {},
   "outputs": [
    {
     "data": {
      "text/plain": [
       "array([ 149.93999858])"
      ]
     },
     "execution_count": 347,
     "metadata": {},
     "output_type": "execute_result"
    }
   ],
   "source": [
    "\n",
    "T[5]"
   ]
  },
  {
   "cell_type": "markdown",
   "metadata": {},
   "source": []
  },
  {
   "cell_type": "markdown",
   "metadata": {},
   "source": [
    "## ¿Qué interpretación puedes decir para valores de  k>0 ?\n",
    "\n",
    " ##### R= cuando son mayores a 0 quiere decir  que se esta calentando (mas alta la teperatura)"
   ]
  },
  {
   "cell_type": "code",
   "execution_count": null,
   "metadata": {
    "collapsed": true
   },
   "outputs": [],
   "source": [
    "import numpy as np\n",
    "from scipy.integrate import odeint\n",
    "import matplotlib.pyplot as plt\n",
    "%matplotlib inline"
   ]
  },
  {
   "cell_type": "code",
   "execution_count": 353,
   "metadata": {
    "collapsed": true
   },
   "outputs": [],
   "source": [
    "import matplotlib as mpl\n",
    "label_size =16\n",
    "mpl.rcParams[\"xtick.labelsize\"]= label_size\n",
    "mpl.rcParams[\"ytick.labelsize\"]= label_size"
   ]
  },
  {
   "cell_type": "code",
   "execution_count": 354,
   "metadata": {
    "collapsed": true
   },
   "outputs": [],
   "source": [
    "k = .1\n",
    "def enfriamiento(T, t):\n",
    "    return k*(T- 28)"
   ]
  },
  {
   "cell_type": "code",
   "execution_count": 355,
   "metadata": {},
   "outputs": [
    {
     "data": {
      "image/png": "[encoded data removed]",
      "text/plain": [
       "<matplotlib.figure.Figure at 0xde5b399780>"
      ]
     },
     "metadata": {},
     "output_type": "display_data"
    }
   ],
   "source": [
    "C_0=280\n",
    "t= np.arange(0,60,1)\n",
    "T= odeint(enfriamiento, C_0, t)\n",
    "plt.plot(t,T)\n",
    "plt.xlabel(\"$t$\", fontsize =18)\n",
    "plt.ylabel(\"$Temperatura$\", fontsize =18)\n",
    "plt.show()"
   ]
  },
  {
   "cell_type": "code",
   "execution_count": null,
   "metadata": {
    "collapsed": true
   },
   "outputs": [],
   "source": []
  },
  {
   "cell_type": "markdown",
   "metadata": {},
   "source": [
    "## Busca una constante de proporcionalidad  k  en un rango ( de  −0.2  a  0.2  con incremento de 0.01), para la cual el pastel se puede comer a una temperatura menor a  50°C  en un tiempo a 10 minutos.\n",
    "    \n",
    "#####    R= aproximadamente k= -.01 \n",
    "    \n",
    "    "
   ]
  },
  {
   "cell_type": "code",
   "execution_count": 235,
   "metadata": {
    "collapsed": true
   },
   "outputs": [],
   "source": [
    "import numpy as np\n",
    "from scipy.integrate import odeint\n",
    "import matplotlib.pyplot as plt\n",
    "%matplotlib inline\n"
   ]
  },
  {
   "cell_type": "code",
   "execution_count": 361,
   "metadata": {
    "collapsed": true
   },
   "outputs": [],
   "source": [
    "import matplotlib as mpl\n",
    "label_size =10\n",
    "mpl.rcParams[\"xtick.labelsize\"]= label_size\n",
    "mpl.rcParams[\"ytick.labelsize\"]= label_size"
   ]
  },
  {
   "cell_type": "code",
   "execution_count": 432,
   "metadata": {
    "collapsed": true
   },
   "outputs": [],
   "source": [
    "k = -.01\n",
    "def enfriamiento(T, t):\n",
    "    return k*(T- 28)"
   ]
  },
  {
   "cell_type": "code",
   "execution_count": 433,
   "metadata": {},
   "outputs": [
    {
     "data": {
      "image/png": "[encoded data removed]",
      "text/plain": [
       "<matplotlib.figure.Figure at 0xde5a24cb00>"
      ]
     },
     "metadata": {},
     "output_type": "display_data"
    }
   ],
   "source": [
    "C_0=50\n",
    "t= np.arange(0,11,1)\n",
    "T= odeint(enfriamiento, C_0, t)\n",
    "plt.plot(t,T)\n",
    "plt.xlabel(\"$t$\", fontsize =18)\n",
    "plt.ylabel(\"$Temperatura$\", fontsize =18)\n",
    "plt.show()\n"
   ]
  },
  {
   "cell_type": "code",
   "execution_count": 434,
   "metadata": {},
   "outputs": [
    {
     "data": {
      "text/plain": [
       "array([ 47.90642393])"
      ]
     },
     "execution_count": 434,
     "metadata": {},
     "output_type": "execute_result"
    }
   ],
   "source": [
    "T[10]"
   ]
  },
  {
   "cell_type": "markdown",
   "metadata": {},
   "source": [
    "# Segundo punto (50 puntos).\n",
    "\n",
    "## Introducción al problema. \n",
    "\n",
    "## Drenado de un tanque (Ley de Torricelli)\n",
    "\n",
    "En hidrodinámica, la ley de Torricelli establece que la velocidad\n",
    "$v$ de flujo de salida de agua a través de un orificio plano ubicado en la parte inferior\n",
    "de un tanque lleno hasta una altura $h$ será igual a la velocidad que un cuerpo (en este caso\n",
    "una gota de agua) adquiriría en caída libre desde una altura $h$; es decir, $v = \\sqrt{2gh}$, donde $g$ es la aceleración debida a la gravedad.\n",
    "\n",
    "\n",
    "Suponga que un tanque lleno de agua puede drenar mediante un orificio bajo la influencia de la gravedad. Deseamos encontrar la altura $h$ del agua restante en el tanque en el tiempo $t$.\n",
    "\n",
    "Si el área del orificio es $A_h$ (en $m^2$) y la velocidad del agua que sale del tanque es $v = \\sqrt{2gh}$ (en m/s), entonces el volumen del agua que abandona el tanque por segundo es $A_h \\sqrt{2gh}$ (en $m^3$/s). De este modo, si $V(t)$ indica el volumen del agua que hay en el tanque en el tiempo $t$, la ecuación diferencial deseada para la altura del agua en el tiempo t:\n",
    "\n",
    "$$\\frac{dh}{dt} = - \\frac{A_h}{A_w} \\sqrt{2gh} $$\n",
    "\n",
    "\n",
    "Donde $A_w$ (en $m^2$) representa el área constante de la superficie superior del agua.\n",
    "\n",
    "Observe que aquí ignoramos la posibilidad de fricción en el orificio, la cual puede ocasionar una reducción en la velocidad del flujo en\n",
    "dicho lugar\n",
    "\n"
   ]
  },
  {
   "cell_type": "markdown",
   "metadata": {},
   "source": [
    "### Para más información revise la siguiente pagina. "
   ]
  },
  {
   "cell_type": "code",
   "execution_count": 6,
   "metadata": {
    "collapsed": true
   },
   "outputs": [],
   "source": [
    "HTML(Torricelli)"
   ]
  },
  {
   "cell_type": "markdown",
   "metadata": {},
   "source": [
    "# <font color = red> Problema 2 <font>\n",
    "\n",
    "## Drenado de un tanque \n",
    "\n",
    "Concidere un cilindro circular con un área constante de $A_w = 5 m^2$, en la parte inferior contiene un orificio de área $A_h = 1 m^2$ el cual podemos estar regulando la salida del liquido. En el interior del tanque se encuentra un liquido el cual tiene una altura inicial en el tiempo $0$ de $h(0)= 10 m$. Realiza las siguientes actividades:\n",
    "\n",
    "1. (20 puntos) Simula el sistema en un tiempo de $0$ a $6.5$ unidades de tiempo,  \n",
    "2. (15 puntos) \n",
    "    - (10 puntos) Grafique la solución.\n",
    "    - (5 puntos) Supoga que cada unidad de tiempo corresponde a un minuto. ¿En que tiempo aproximadamente la altura del liquido alcanza una altura de $h=2 m$?\n",
    "3. (15 puntos)\n",
    "    - (10 puntos) ¿Qué interpretación puedes decir si el signo de la ecuación fuera positivo?\n",
    "    - (5  puntos)  ¿Si el área del orificio $A_h$ es menor a $1 m^2$ que implicaria? Realiza una simulacion y grafica la solución para un orificio de $A_h = .5 m$ "
   ]
  },
  {
   "cell_type": "markdown",
   "metadata": {},
   "source": [
    "# respuesta 1 ejercicio 2"
   ]
  },
  {
   "cell_type": "code",
   "execution_count": 88,
   "metadata": {
    "collapsed": true
   },
   "outputs": [],
   "source": [
    "import numpy as np\n",
    "from scipy.integrate import odeint\n",
    "import matplotlib.pyplot as plt\n",
    "%matplotlib inline"
   ]
  },
  {
   "cell_type": "code",
   "execution_count": 444,
   "metadata": {
    "collapsed": true
   },
   "outputs": [],
   "source": [
    "import matplotlib as mpl\n",
    "label_size =15\n",
    "mpl.rcParams[\"xtick.labelsize\"]= label_size\n",
    "mpl.rcParams[\"ytick.labelsize\"]= label_size\n"
   ]
  },
  {
   "cell_type": "code",
   "execution_count": 457,
   "metadata": {
    "collapsed": true
   },
   "outputs": [],
   "source": [
    "\n",
    "Aw =5\n",
    "g=9.81\n",
    "Ah= 1\n",
    "h= 10\n",
    "def drenado (h,t):\n",
    "    return -(Ah/Aw)*((2*g*h)**(1/2))\n",
    "    "
   ]
  },
  {
   "cell_type": "code",
   "execution_count": 478,
   "metadata": {},
   "outputs": [
    {
     "data": {
      "image/png": "[encoded data removed]",
      "text/plain": [
       "<matplotlib.figure.Figure at 0xde5b4a7630>"
      ]
     },
     "metadata": {},
     "output_type": "display_data"
    }
   ],
   "source": [
    "h0 = 10\n",
    "t= np.arange(0,6.5)\n",
    "#t= np.linspace(0, 6.5)\n",
    "h= odeint(drenado, h0, t)\n",
    "plt.plot(t,h)\n",
    "plt.xlabel(\"$Tiempo$\", fontsize =20)\n",
    "plt.ylabel(\"$Altura$\", fontsize =20)\n",
    "plt.show()"
   ]
  },
  {
   "cell_type": "code",
   "execution_count": 483,
   "metadata": {},
   "outputs": [
    {
     "data": {
      "text/plain": [
       "array([ 1.93348717])"
      ]
     },
     "execution_count": 483,
     "metadata": {},
     "output_type": "execute_result"
    }
   ],
   "source": [
    "h[4]"
   ]
  },
  {
   "cell_type": "markdown",
   "metadata": {},
   "source": []
  },
  {
   "cell_type": "markdown",
   "metadata": {},
   "source": [
    "\n",
    "#  ¿En que tiempo aproximadamente la altura del liquido alcanza una altura de  h=2m ?\n",
    "\n",
    "####  R= aproximadamente en 4 unidades de tiempo\n"
   ]
  },
  {
   "cell_type": "code",
   "execution_count": null,
   "metadata": {
    "collapsed": true
   },
   "outputs": [],
   "source": []
  },
  {
   "cell_type": "markdown",
   "metadata": {},
   "source": [
    "# ¿Qué interpretación puedes decir si el signo de la ecuación fuera positivo?\n",
    "\n",
    "\n",
    "####  R= Que el tanque esta cerrado y va aumentando la altura del liquido conforme pasa el tiempo (se llena)\n"
   ]
  },
  {
   "cell_type": "code",
   "execution_count": 484,
   "metadata": {
    "collapsed": true
   },
   "outputs": [],
   "source": [
    "import numpy as np\n",
    "from scipy.integrate import odeint\n",
    "import matplotlib.pyplot as plt\n",
    "%matplotlib inline"
   ]
  },
  {
   "cell_type": "code",
   "execution_count": 485,
   "metadata": {
    "collapsed": true
   },
   "outputs": [],
   "source": [
    "import matplotlib as mpl\n",
    "label_size =15\n",
    "mpl.rcParams[\"xtick.labelsize\"]= label_size\n",
    "mpl.rcParams[\"ytick.labelsize\"]= label_size\n"
   ]
  },
  {
   "cell_type": "code",
   "execution_count": 488,
   "metadata": {
    "collapsed": true
   },
   "outputs": [],
   "source": [
    "Aw =5\n",
    "g=9.81\n",
    "Ah= 1\n",
    "h= 10\n",
    "def drenado (h,t):\n",
    "    return +(Ah/Aw)*((2*g*h)**(1/2))"
   ]
  },
  {
   "cell_type": "code",
   "execution_count": 489,
   "metadata": {},
   "outputs": [
    {
     "data": {
      "image/png": "[encoded data removed]",
      "text/plain": [
       "<matplotlib.figure.Figure at 0xde5b2c0cc0>"
      ]
     },
     "metadata": {},
     "output_type": "display_data"
    }
   ],
   "source": [
    "h0 = 10\n",
    "t= np.arange(0,6.5)\n",
    "#t= np.linspace(0, 6.5)\n",
    "h= odeint(drenado, h0, t)\n",
    "plt.plot(t,h)\n",
    "plt.xlabel(\"$Tiempo$\", fontsize =20)\n",
    "plt.ylabel(\"$Altura$\", fontsize =20)\n",
    "plt.show()"
   ]
  },
  {
   "cell_type": "markdown",
   "metadata": {},
   "source": []
  },
  {
   "cell_type": "markdown",
   "metadata": {},
   "source": [
    "# ¿Si el área del orificio  Ah  es menor a  1m^2  que implicaria? Realiza una simulacion y grafica la solución para un orificio de  Ah=.5m\n",
    "\n",
    "\n",
    " ####  R= El agua se va a drenar de manera, mas rapida, mas lieal,   respecto a la altura y el tiempo que con ah=1  \n"
   ]
  },
  {
   "cell_type": "code",
   "execution_count": 513,
   "metadata": {
    "collapsed": true
   },
   "outputs": [],
   "source": [
    "import numpy as np\n",
    "from scipy.integrate import odeint\n",
    "import matplotlib.pyplot as plt\n",
    "%matplotlib inline"
   ]
  },
  {
   "cell_type": "code",
   "execution_count": 514,
   "metadata": {
    "collapsed": true
   },
   "outputs": [],
   "source": [
    "import matplotlib as mpl\n",
    "label_size =15\n",
    "mpl.rcParams[\"xtick.labelsize\"]= label_size\n",
    "mpl.rcParams[\"ytick.labelsize\"]= label_size\n"
   ]
  },
  {
   "cell_type": "code",
   "execution_count": 515,
   "metadata": {
    "collapsed": true
   },
   "outputs": [],
   "source": [
    "Aw =5\n",
    "g=9.81\n",
    "Ah= .5\n",
    "h= 10\n",
    "def drenado (h,t):\n",
    "    return -(Ah/Aw)*((2*g*h)**(1/2))"
   ]
  },
  {
   "cell_type": "code",
   "execution_count": 516,
   "metadata": {},
   "outputs": [
    {
     "data": {
      "image/png": "[encoded data removed]",
      "text/plain": [
       "<matplotlib.figure.Figure at 0xde5b40eb38>"
      ]
     },
     "metadata": {},
     "output_type": "display_data"
    }
   ],
   "source": [
    "h0 = 10\n",
    "t= np.arange(0,6.5)\n",
    "#t= np.linspace(0, 6.5)\n",
    "h= odeint(drenado, h0, t)\n",
    "plt.plot(t,h)\n",
    "plt.xlabel(\"$Tiempo$\", fontsize =20)\n",
    "plt.ylabel(\"$Altura$\", fontsize =20)\n",
    "plt.show()"
   ]
  },
  {
   "cell_type": "markdown",
   "metadata": {},
   "source": []
  },
  {
   "cell_type": "code",
   "execution_count": null,
   "metadata": {
    "collapsed": true
   },
   "outputs": [],
   "source": []
  }
 ],
 "metadata": {
  "kernelspec": {
   "display_name": "Python 3",
   "language": "python",
   "name": "python3"
  },
  "language_info": {
   "codemirror_mode": {
    "name": "ipython",
    "version": 3
   },
   "file_extension": ".py",
   "mimetype": "text/x-python",
   "name": "python",
   "nbconvert_exporter": "python",
   "pygments_lexer": "ipython3",
   "version": "3.6.1"
  },
  "widgets": {
   "state": {
    "928ba576d9ca4ebea616e1d3c6a124bc": {
     "views": [
      {
       "cell_index": 4
      }
     ]
    },
    "b6c1fee6780845c59e2f26bbd538da70": {
     "views": [
      {
       "cell_index": 12
      }
     ]
    }
   },
   "version": "1.2.0"
  }
 },
 "nbformat": 4,
 "nbformat_minor": 2
}
