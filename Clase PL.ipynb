{
 "cells": [
  {
   "cell_type": "code",
   "execution_count": 6,
   "metadata": {
    "collapsed": true
   },
   "outputs": [],
   "source": [
    " pulp.LpVariable?\n"
   ]
  },
  {
   "cell_type": "code",
   "execution_count": 17,
   "metadata": {},
   "outputs": [
    {
     "name": "stdout",
     "output_type": "stream",
     "text": [
      "Requirement already satisfied: pulp in c:\\users\\eduardo\\anaconda3\\lib\\site-packages\n",
      "Requirement already satisfied: pyparsing>=2.0.1 in c:\\users\\eduardo\\anaconda3\\lib\\site-packages (from pulp)\n"
     ]
    }
   ],
   "source": [
    "!pip install pulp\n"
   ]
  },
  {
   "cell_type": "code",
   "execution_count": 18,
   "metadata": {
    "collapsed": true
   },
   "outputs": [],
   "source": [
    "from pulp import *"
   ]
  },
  {
   "cell_type": "code",
   "execution_count": 25,
   "metadata": {},
   "outputs": [],
   "source": [
    "mi_lp_problem =pulp.LpProblem (\"mi Lp prblema\", pulp.LpMinimize)\n",
    "\n",
    "x = pulp.LpVariable(\"x\", lowBound=0, cat=\"Continuous\")\n",
    "y = pulp.LpVariable(\"y\", lowBound=0, cat=\"Continuous\")\n",
    "\n",
    "# objetive funcion \n",
    "mi_lp_problem += x +2*y\n",
    "\n",
    "\n",
    "#constraints\n",
    "mi_lp_problem += 3*x + 4*y >=1\n",
    "mi_lp_problem += 2*x + 5*y >=2\n",
    "\n"
   ]
  },
  {
   "cell_type": "code",
   "execution_count": 26,
   "metadata": {},
   "outputs": [
    {
     "data": {
      "text/plain": [
       "mi Lp prblema:\n",
       "MINIMIZE\n",
       "1*x + 2*y + 0\n",
       "SUBJECT TO\n",
       "_C1: 3 x + 4 y >= 1\n",
       "\n",
       "_C2: 2 x + 5 y >= 2\n",
       "\n",
       "VARIABLES\n",
       "x Continuous\n",
       "y Continuous"
      ]
     },
     "execution_count": 26,
     "metadata": {},
     "output_type": "execute_result"
    }
   ],
   "source": [
    "mi_lp_problem"
   ]
  },
  {
   "cell_type": "code",
   "execution_count": 27,
   "metadata": {},
   "outputs": [
    {
     "data": {
      "text/plain": [
       "'Optimal'"
      ]
     },
     "execution_count": 27,
     "metadata": {},
     "output_type": "execute_result"
    }
   ],
   "source": [
    "mi_lp_problem.solve()\n",
    "pulp.LpStatus[mi_lp_problem.status]"
   ]
  },
  {
   "cell_type": "code",
   "execution_count": 29,
   "metadata": {},
   "outputs": [
    {
     "name": "stdout",
     "output_type": "stream",
     "text": [
      "x=0.0\n",
      "y=0.4\n"
     ]
    }
   ],
   "source": [
    "for variable in mi_lp_problem.variables():\n",
    "    print (\"{}={}\".format(variable.name, variable.varValue))"
   ]
  },
  {
   "cell_type": "markdown",
   "metadata": {},
   "source": [
    "\n",
    "####  Utilizando cvxopt"
   ]
  },
  {
   "cell_type": "code",
   "execution_count": 33,
   "metadata": {},
   "outputs": [
    {
     "ename": "ModuleNotFoundError",
     "evalue": "No module named 'cvxopt'",
     "output_type": "error",
     "traceback": [
      "\u001b[1;31m---------------------------------------------------------------------------\u001b[0m",
      "\u001b[1;31mModuleNotFoundError\u001b[0m                       Traceback (most recent call last)",
      "\u001b[1;32m<ipython-input-33-736a97b35407>\u001b[0m in \u001b[0;36m<module>\u001b[1;34m()\u001b[0m\n\u001b[1;32m----> 1\u001b[1;33m \u001b[1;32mfrom\u001b[0m \u001b[0mcvxopt\u001b[0m \u001b[1;32mimport\u001b[0m \u001b[0mmatrix\u001b[0m\u001b[1;33m,\u001b[0m \u001b[0msolvers\u001b[0m\u001b[1;33m\u001b[0m\u001b[0m\n\u001b[0m\u001b[0;32m      2\u001b[0m \u001b[1;33m\u001b[0m\u001b[0m\n\u001b[0;32m      3\u001b[0m \u001b[1;33m\u001b[0m\u001b[0m\n\u001b[0;32m      4\u001b[0m A= matrix([[-3.0,-2.0,-1.0, 0.0],\n\u001b[0;32m      5\u001b[0m           [-4.0,-5.0,0.0, -1.0]])\n",
      "\u001b[1;31mModuleNotFoundError\u001b[0m: No module named 'cvxopt'"
     ]
    }
   ],
   "source": [
    "from cvxopt import matrix, solvers\n",
    "\n",
    "\n",
    "A= matrix([[-3.0,-2.0,-1.0, 0.0],\n",
    "          [-4.0,-5.0,0.0, -1.0]])\n",
    "\n",
    "b= matrix([-1.0,-2.0,0.0, 0.0])\n",
    "c= matrix([1.0,2.0])\n",
    "sol=solvers.lp(c,A,b)\n",
    "\n",
    "print (sol[\"x\"])"
   ]
  },
  {
   "cell_type": "code",
   "execution_count": 34,
   "metadata": {
    "collapsed": true
   },
   "outputs": [],
   "source": [
    "\n",
    "\n",
    "#### ejercios 2"
   ]
  },
  {
   "cell_type": "code",
   "execution_count": 47,
   "metadata": {
    "collapsed": true
   },
   "outputs": [],
   "source": [
    "from pulp import *"
   ]
  },
  {
   "cell_type": "markdown",
   "metadata": {},
   "source": [
    "# EJEMPLO 5  "
   ]
  },
  {
   "cell_type": "code",
   "execution_count": 49,
   "metadata": {
    "collapsed": true
   },
   "outputs": [],
   "source": [
    "##CON PULP "
   ]
  },
  {
   "cell_type": "code",
   "execution_count": 52,
   "metadata": {},
   "outputs": [
    {
     "name": "stdout",
     "output_type": "stream",
     "text": [
      "x=0.5\n",
      "y=1.5\n"
     ]
    }
   ],
   "source": [
    "mi_lp_problem =pulp.LpProblem (\"mi Lp prblema\", pulp.LpMinimize)\n",
    "\n",
    "x = pulp.LpVariable(\"x\", lowBound=0, cat=\"Continuous\")\n",
    "y = pulp.LpVariable(\"y\", lowBound=0, cat=\"Continuous\")\n",
    "\n",
    "# objetive funcion \n",
    "mi_lp_problem += 2*x + y\n",
    "\n",
    "\n",
    "#constraints\n",
    "mi_lp_problem += -x + y <=1\n",
    "mi_lp_problem += x + y >=2\n",
    "mi_lp_problem += x - 2*y <=4\n",
    "\n",
    "mi_lp_problem.solve()\n",
    "pulp.LpStatus[mi_lp_problem.status]\n",
    "\n",
    "for variable in mi_lp_problem.variables():\n",
    "    print (\"{}={}\".format(variable.name, variable.varValue))"
   ]
  },
  {
   "cell_type": "code",
   "execution_count": null,
   "metadata": {
    "collapsed": true
   },
   "outputs": [],
   "source": []
  }
 ],
 "metadata": {
  "kernelspec": {
   "display_name": "Python 3",
   "language": "python",
   "name": "python3"
  },
  "language_info": {
   "codemirror_mode": {
    "name": "ipython",
    "version": 3
   },
   "file_extension": ".py",
   "mimetype": "text/x-python",
   "name": "python",
   "nbconvert_exporter": "python",
   "pygments_lexer": "ipython3",
   "version": "3.6.1"
  }
 },
 "nbformat": 4,
 "nbformat_minor": 2
}
