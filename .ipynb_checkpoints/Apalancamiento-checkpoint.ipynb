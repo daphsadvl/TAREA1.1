{
 "cells": [
  {
   "cell_type": "code",
   "execution_count": 20,
   "metadata": {
    "collapsed": true
   },
   "outputs": [],
   "source": [
    "%matplotlib inline \n",
    "\n",
    "import numpy as np\n",
    "import matplotlib.pyplot as plt\n",
    "from sympy  import *\n",
    "import pandas as pd\n",
    "from scipy import stats"
   ]
  },
  {
   "cell_type": "code",
   "execution_count": 21,
   "metadata": {},
   "outputs": [
    {
     "name": "stdout",
     "output_type": "stream",
     "text": [
      "Monto inicial: $10000pesos.\n",
      "Pedi prestado: $1000.0pesos.\n",
      "Inverti: $11000.0pesos.\n",
      "Termine con : $12320.0pesos.\n",
      "Pago prestamo: $1050.0pesos.\n",
      "Monto Final: $11270.0pesos.\n",
      "Rendimiento : 12.7%\n"
     ]
    }
   ],
   "source": [
    "MontoInicial= 10000\n",
    "TasaPrestamo =.10 #20%\n",
    "Prestamo= MontoInicial*TasaPrestamo\n",
    "TasaInteres = .05 \n",
    "MontoDisponible= MontoInicial+Prestamo\n",
    "Rendimiento=.12\n",
    "\n",
    "SubTotal= Rendimiento*MontoDisponible +MontoDisponible\n",
    "\n",
    "PagoPrestamo= Prestamo + TasaInteres* Prestamo\n",
    "\n",
    "MontoFinal= SubTotal - PagoPrestamo\n",
    "\n",
    "Rendimiento=(MontoFinal-MontoInicial)/MontoInicial\n",
    "\n",
    "print(\"Monto inicial: $\"+str(MontoInicial)+\"pesos.\")\n",
    "print(\"Pedi prestado: $\"+str(Prestamo)+\"pesos.\")\n",
    "print(\"Inverti: $\"+str(MontoDisponible)+\"pesos.\")\n",
    "print(\"Termine con : $\"+str(SubTotal)+\"pesos.\")\n",
    "print(\"Pago prestamo: $\"+str(PagoPrestamo)+\"pesos.\")\n",
    "print(\"Monto Final: $\"+str(MontoFinal)+\"pesos.\")\n",
    "print(\"Rendimiento : \"+str(Rendimiento*100)+\"%\")\n",
    "\n"
   ]
  },
  {
   "cell_type": "code",
   "execution_count": 22,
   "metadata": {},
   "outputs": [
    {
     "name": "stdout",
     "output_type": "stream",
     "text": [
      "Monto inicial: $10000pesos.\n",
      "Pedi prestado: $3000.0pesos.\n",
      "Inverti: $13000.0pesos.\n",
      "Termine con : $14651.0pesos.\n",
      "Pago prestamo: $3150.0pesos.\n",
      "Monto Final: $11501.0pesos.\n"
     ]
    }
   ],
   "source": [
    "MontoInicial= 10000\n",
    "TasaPrestamo =.3 \n",
    "Prestamo= MontoInicial*TasaPrestamo\n",
    "TasaInteres = .05 #variable fija\n",
    "\n",
    "#disponible para invertir en el sp500\n",
    "MontoDisponible= MontoInicial+Prestamo\n",
    "Rendimiento=.12\n",
    "\n",
    "# el rendimiento de disponible para invertir en el sp500  es 12%\n",
    "Rendimiento=(MontoFinal-MontoInicial)/MontoInicial\n",
    "\n",
    "SubTotal= Rendimiento*MontoDisponible +MontoDisponible\n",
    "\n",
    "PagoPrestamo= Prestamo + TasaInteres* Prestamo\n",
    "\n",
    "MontoFinal= SubTotal - PagoPrestamo\n",
    "\n",
    "Rendimiento=(MontoFinal-MontoInicial)/MontoInicial\n",
    "\n",
    "print(\"Monto inicial: $\"+str(MontoInicial)+\"pesos.\")\n",
    "print(\"Pedi prestado: $\"+str(Prestamo)+\"pesos.\")\n",
    "print(\"Inverti: $\"+str(MontoDisponible)+\"pesos.\")\n",
    "print(\"Termine con : $\"+str(SubTotal)+\"pesos.\")\n",
    "print(\"Pago prestamo: $\"+str(PagoPrestamo)+\"pesos.\")\n",
    "print(\"Monto Final: $\"+str(MontoFinal)+\"pesos.\")\n",
    "\n"
   ]
  },
  {
   "cell_type": "code",
   "execution_count": 23,
   "metadata": {},
   "outputs": [
    {
     "data": {
      "text/plain": [
       "<matplotlib.text.Text at 0x4ad8230320>"
      ]
     },
     "execution_count": 23,
     "metadata": {},
     "output_type": "execute_result"
    },
    {
     "data": {
      "image/png": "[encoded data removed]",
      "text/plain": [
       "<matplotlib.figure.Figure at 0x4ad824ce10>"
      ]
     },
     "metadata": {},
     "output_type": "display_data"
    }
   ],
   "source": [
    "plt.hist(np.random.normal(.12,.20,10000),normed=True, bins=100);\n",
    "plt.ylabel(\"probabilidad\")\n",
    "plt.xlabel(\"valores\")\n",
    "#print(\"99% de lso rendimientos \"+ srt (.12-3*.2))\n"
   ]
  },
  {
   "cell_type": "code",
   "execution_count": 25,
   "metadata": {},
   "outputs": [
    {
     "ename": "IndentationError",
     "evalue": "expected an indented block (<ipython-input-25-40551bb4f59c>, line 2)",
     "output_type": "error",
     "traceback": [
      "\u001b[1;36m  File \u001b[1;32m\"<ipython-input-25-40551bb4f59c>\"\u001b[1;36m, line \u001b[1;32m2\u001b[0m\n\u001b[1;33m    MontoInicial= 10000\u001b[0m\n\u001b[1;37m               ^\u001b[0m\n\u001b[1;31mIndentationError\u001b[0m\u001b[1;31m:\u001b[0m expected an indented block\n"
     ]
    }
   ],
   "source": [
    "def SP500():\n",
    "MontoInicial= 10000  \n",
    "TasaPrestamo =.3 \n",
    "Prestamo= MontoInicial*TasaPrestamo\n",
    "TasaInteres = .05 \n",
    "\n",
    "MontoDisponible= MontoInicial+Prestamo\n",
    "    #Rendimiento=.12\n",
    "Rendimiento=np.random.normal(.12,.20)\n",
    "\n",
    "SubTotal= Rendimiento*MontoDisponible +MontoDisponible\n",
    "PagoPrestamo= Prestamo + TasaInteres* Prestamo\n",
    "\n",
    "MontoFinal= SubTotal - PagoPrestamo\n",
    "\n",
    "Rendimiento=(MontoFinal-MontoInicial)/MontoInicial\n",
    "\n",
    "return Rendimiento\n"
   ]
  },
  {
   "cell_type": "code",
   "execution_count": null,
   "metadata": {
    "collapsed": true
   },
   "outputs": [],
   "source": []
  },
  {
   "cell_type": "code",
   "execution_count": null,
   "metadata": {
    "collapsed": true
   },
   "outputs": [],
   "source": []
  }
 ],
 "metadata": {
  "kernelspec": {
   "display_name": "Python 3",
   "language": "python",
   "name": "python3"
  },
  "language_info": {
   "codemirror_mode": {
    "name": "ipython",
    "version": 3
   },
   "file_extension": ".py",
   "mimetype": "text/x-python",
   "name": "python",
   "nbconvert_exporter": "python",
   "pygments_lexer": "ipython3",
   "version": "3.6.1"
  }
 },
 "nbformat": 4,
 "nbformat_minor": 2
}
