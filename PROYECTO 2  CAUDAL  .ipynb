{
 "cells": [
  {
   "cell_type": "markdown",
   "metadata": {
    "collapsed": true
   },
   "source": [
    "## POBLACION FUTURA-CAUDAL-NODOS"
   ]
  },
  {
   "cell_type": "markdown",
   "metadata": {},
   "source": [
    "### Datos"
   ]
  },
  {
   "cell_type": "code",
   "execution_count": 49,
   "metadata": {
    "collapsed": true
   },
   "outputs": [],
   "source": [
    "from numpy import *\n",
    "import numpy as np\n",
    "import matplotlib.pyplot as plt\n",
    "%matplotlib inline\n",
    "pi=1585.0   #poblacion inical hb\n",
    "tc=1.3      #tasa de crecimiento%\n",
    "td=15.0     #periodo de diseño\n",
    "dot=120.0   #dotacion en Guadalajara l/s\n"
   ]
  },
  {
   "cell_type": "markdown",
   "metadata": {},
   "source": [
    "### Poblacion futura"
   ]
  },
  {
   "cell_type": "code",
   "execution_count": 50,
   "metadata": {},
   "outputs": [
    {
     "name": "stdout",
     "output_type": "stream",
     "text": [
      "  poblacion futura = 1894.0\n"
     ]
    }
   ],
   "source": [
    "pf=round(pi*(1+tc*td/100),0)\n",
    "print('  poblacion futura =',pf)\n"
   ]
  },
  {
   "cell_type": "markdown",
   "metadata": {},
   "source": [
    "### Caudal Medio Diario"
   ]
  },
  {
   "cell_type": "code",
   "execution_count": 51,
   "metadata": {},
   "outputs": [
    {
     "name": "stdout",
     "output_type": "stream",
     "text": [
      "  caudal medio     = 2.6305555555555555\n",
      "   Qm diario       = 3.419722222222222\n"
     ]
    }
   ],
   "source": [
    "qm=pf*dot/86400\n",
    "print(('  caudal medio     ='), qm)\n",
    "print(('   Qm diario       ='), 1.3*qm)"
   ]
  },
  {
   "cell_type": "markdown",
   "metadata": {},
   "source": [
    "### Caudal Medio Horario"
   ]
  },
  {
   "cell_type": "code",
   "execution_count": 52,
   "metadata": {},
   "outputs": [
    {
     "name": "stdout",
     "output_type": "stream",
     "text": [
      "!!!!!!!!chequear el valor de k2 [1.8-2.5]!!!!!!!!\n",
      "costante para k2   = 2.735795\n",
      "   Qm horario      = 7.196660736111111\n"
     ]
    }
   ],
   "source": [
    "k2= (275-0.75*pf/1000)/100\n",
    "\n",
    "print('!!!!!!!!chequear el valor de k2 [1.8-2.5]!!!!!!!!')\n",
    "print(('costante para k2   ='), k2)\n",
    "print(('   Qm horario      ='), qm*k2)"
   ]
  },
  {
   "cell_type": "markdown",
   "metadata": {},
   "source": [
    "### Caudal en los nodos"
   ]
  },
  {
   "cell_type": "code",
   "execution_count": 53,
   "metadata": {},
   "outputs": [
    {
     "name": "stdout",
     "output_type": "stream",
     "text": [
      "[ 1.  1.  1.  1.  1.  1.  1.  1.  1.  1.  1.  1.  1.  1.  1.  1.  1.  1.\n",
      "  1.  1.  1.  1.  1.  1.  1.  1.  1.  1.  1.  1.  1.  1.  1.  1.  1.  1.\n",
      "  1.  1.  1.  1.  1.  1.  1.  1.  1.  1.  1.  1.  1.  1.  1.  1.  1.  1.\n",
      "  1.  1.  1.  1.  1.  1.  1.  1.  1.  1.]\n",
      "180403.0\n"
     ]
    }
   ],
   "source": [
    "matriz = np.genfromtxt('NAP.txt')\n",
    "nodo=matriz[:,0]\n",
    "area= matriz[:,1]\n",
    "peso= matriz[:,2]\n",
    "pa =area*peso\n",
    "paa=sum(pa)\n",
    "print(peso)\n",
    "print(paa)\n"
   ]
  },
  {
   "cell_type": "markdown",
   "metadata": {},
   "source": [
    "### Caudal unitario"
   ]
  },
  {
   "cell_type": "code",
   "execution_count": 54,
   "metadata": {},
   "outputs": [
    {
     "data": {
      "text/plain": [
       "3.9892134477315294e-05"
      ]
     },
     "execution_count": 54,
     "metadata": {},
     "output_type": "execute_result"
    }
   ],
   "source": [
    "qu=(qm*k2/paa)\n",
    "qu"
   ]
  },
  {
   "cell_type": "markdown",
   "metadata": {},
   "source": [
    "### Distribución en los Nodos"
   ]
  },
  {
   "cell_type": "code",
   "execution_count": 55,
   "metadata": {},
   "outputs": [
    {
     "data": {
      "text/plain": [
       "matrix([[ 0.        ],\n",
       "        [ 0.        ],\n",
       "        [ 0.        ],\n",
       "        [ 0.        ],\n",
       "        [ 0.        ],\n",
       "        [ 0.2373582 ],\n",
       "        [ 0.22160081],\n",
       "        [ 0.2018542 ],\n",
       "        [ 0.25092153],\n",
       "        [ 0.44160593],\n",
       "        [ 0.28044171],\n",
       "        [ 0.29899155],\n",
       "        [ 0.31794031],\n",
       "        [ 0.16435559],\n",
       "        [ 0.05465222],\n",
       "        [ 0.23955227],\n",
       "        [ 0.19008602],\n",
       "        [ 0.22758463],\n",
       "        [ 0.14381114],\n",
       "        [ 0.25570858],\n",
       "        [ 0.248528  ],\n",
       "        [ 0.29500233],\n",
       "        [ 0.21162777],\n",
       "        [ 0.24066925],\n",
       "        [ 0.20723964],\n",
       "        [ 0.0466738 ],\n",
       "        [ 0.26747676],\n",
       "        [ 0.34506696],\n",
       "        [ 0.03051748],\n",
       "        [ 0.11129906],\n",
       "        [ 0.0877627 ],\n",
       "        [ 0.06841501],\n",
       "        [ 0.06003766],\n",
       "        [ 0.09873303],\n",
       "        [ 0.0522587 ],\n",
       "        [ 0.0486684 ],\n",
       "        [ 0.04348243],\n",
       "        [ 0.05864144],\n",
       "        [ 0.11070067],\n",
       "        [ 0.07340153],\n",
       "        [ 0.0644258 ],\n",
       "        [ 0.08237726],\n",
       "        [ 0.11648503],\n",
       "        [ 0.05963874],\n",
       "        [ 0.09893249],\n",
       "        [ 0.06342849],\n",
       "        [ 0.02912126],\n",
       "        [ 0.02393528],\n",
       "        [ 0.02393528],\n",
       "        [ 0.02353636],\n",
       "        [ 0.01196764],\n",
       "        [ 0.01495955],\n",
       "        [ 0.0131644 ],\n",
       "        [ 0.01735308],\n",
       "        [ 0.02872234],\n",
       "        [ 0.03769807],\n",
       "        [ 0.02652827],\n",
       "        [ 0.02253906],\n",
       "        [ 0.02752557],\n",
       "        [ 0.03430724],\n",
       "        [ 0.03709969],\n",
       "        [ 0.03510508],\n",
       "        [ 0.01615631],\n",
       "        [ 0.05505115]])"
      ]
     },
     "execution_count": 55,
     "metadata": {},
     "output_type": "execute_result"
    }
   ],
   "source": [
    "dist=qu*area\n",
    "matrix(dist).T"
   ]
  },
  {
   "cell_type": "code",
   "execution_count": 83,
   "metadata": {},
   "outputs": [
    {
     "data": {
      "image/png": "[encoded data removed]",
      "text/plain": [
       "<matplotlib.figure.Figure at 0xd74fbee9b0>"
      ]
     },
     "metadata": {},
     "output_type": "display_data"
    }
   ],
   "source": [
    "plt.plot(nodo,dist ,'o------')\n",
    "plt.grid(True)\n"
   ]
  },
  {
   "cell_type": "code",
   "execution_count": 60,
   "metadata": {
    "collapsed": true
   },
   "outputs": [],
   "source": []
  },
  {
   "cell_type": "code",
   "execution_count": null,
   "metadata": {
    "collapsed": true
   },
   "outputs": [],
   "source": []
  },
  {
   "cell_type": "code",
   "execution_count": null,
   "metadata": {
    "collapsed": true
   },
   "outputs": [],
   "source": []
  }
 ],
 "metadata": {
  "kernelspec": {
   "display_name": "Python 3",
   "language": "python",
   "name": "python3"
  },
  "language_info": {
   "codemirror_mode": {
    "name": "ipython",
    "version": 3
   },
   "file_extension": ".py",
   "mimetype": "text/x-python",
   "name": "python",
   "nbconvert_exporter": "python",
   "pygments_lexer": "ipython3",
   "version": "3.6.1"
  }
 },
 "nbformat": 4,
 "nbformat_minor": 1
}
