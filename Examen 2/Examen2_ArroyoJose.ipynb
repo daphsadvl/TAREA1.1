{
 "cells": [
  {
   "cell_type": "markdown",
   "metadata": {},
   "source": [
    "# Examen Módulo 2 - Simulación Monte Carlo. <font color =blue> Tipo de examen 1.  </font>\n",
    "\n",
    "Lea cuidadosamente las siguientes indicaciones antes de comenzar el examen:\n",
    "\n",
    "- Para resolver el examen edite este mismo archivo y renómbrelo de la siguiente manera: *Examen1_ApellidoNombre*, donde *ApellidoNombre* corresponde a su apellido paterno con la inicial en mayúscula, seguido de su primer nombre con la inicial en mayúscula **sin acentos**. Por ejemplo, en mi caso el nombre del archivo sería Examen1_LopezMichel.\n",
    "- Resuelva los puntos en el espacio provisto. Si requiere agregar más celdas para código o escritura, hágalo.\n",
    "- Recuerde que también se está evaluando su capacidad de interpretar los resultados. Escriba sus interpretaciones/conclusiones en celdas utilizando *Markdown*.\n",
    "- El formato de presentación de todo el examen en general debe ser adecuado. Use tamaños de letra, colores, etiquetas, etcétera.\n",
    "- No se resuelven dudas de ningún tipo por los profesores de la asignatura. Por favor, absténgase de preguntar.\n",
    "- Revise bien el tipo de examen. Sólo se le calificará si realiza el tipo de examen asignado."
   ]
  },
  {
   "cell_type": "code",
   "execution_count": 96,
   "metadata": {
    "collapsed": true
   },
   "outputs": [],
   "source": [
    "%matplotlib inline \n",
    "\n",
    "import math\n",
    "import numpy as np\n",
    "import pandas as pd\n",
    "\n",
    "from matplotlib import cm\n",
    "from matplotlib import pyplot as plt\n",
    "from mpl_toolkits.mplot3d import Axes3D\n",
    "\n",
    "from scipy.integrate import dblquad\n",
    "\n",
    "from collections import OrderedDict"
   ]
  },
  {
   "cell_type": "markdown",
   "metadata": {},
   "source": [
    "# Primer punto (50 puntos)\n",
    "\n",
    "## <font color = red> Problema 1 <font>\n",
    "\n",
    "### Evaluación numérica de integrales por el método Monte Carlo\n",
    "\n",
    "**1. (20 puntos)** \n",
    "\n",
    "Estimar la siguiente integral por el método montecarlo\n",
    "\n",
    "$$I = \\int_{-\\pi}^{\\pi} \\int_{-1}^{1} (\\cos(y)\\ x^2 + 1)\\ dx\\ dy$$"
   ]
  },
  {
   "cell_type": "markdown",
   "metadata": {},
   "source": [
    "\n",
    "## El método de integración numérica Monte Carlo"
   ]
  },
  {
   "cell_type": "markdown",
   "metadata": {},
   "source": [
    "## pregunta numero 1"
   ]
  },
  {
   "cell_type": "markdown",
   "metadata": {},
   "source": [
    "**1. (20 puntos)** \n",
    "Estimar la integral por el método montecarlo"
   ]
  },
  {
   "cell_type": "markdown",
   "metadata": {},
   "source": []
  },
  {
   "cell_type": "code",
   "execution_count": 97,
   "metadata": {
    "collapsed": true
   },
   "outputs": [],
   "source": [
    "def monte_carlo(supx, infx, supy, infy, funcion, N_muestras, N_repe =100):\n",
    "    resultados = []  # Lista\n",
    "    \n",
    "    for N in N_muestras:\n",
    "        estimaciones = []  # Lista\n",
    "        \n",
    "        for _ in range(N_repe):\n",
    "            \n",
    "            x = supx + (infx - supx) * np.random.rand(N) \n",
    "            y = supy + (infy - supy) * np.random.rand(N)  \n",
    "\n",
    "            estimaciones.append((infx - supx) * (infy - supy) * sum(funcion(x, y)) / N)\n",
    "\n",
    "        resultados.append(OrderedDict([\n",
    "            ('N', N),\n",
    "            ('Min', min(estimaciones)),\n",
    "            ('Max', max(estimaciones)),\n",
    "            ('Promedio', np.mean(estimaciones))\n",
    "        ]))\n",
    "    return resultados"
   ]
  },
  {
   "cell_type": "code",
   "execution_count": null,
   "metadata": {
    "collapsed": true
   },
   "outputs": [],
   "source": []
  },
  {
   "cell_type": "markdown",
   "metadata": {},
   "source": [
    "## Pregunta Numero 2\n"
   ]
  },
  {
   "cell_type": "markdown",
   "metadata": {},
   "source": [
    "**2. (20 puntos)**\n",
    "\n",
    "Realice una tabla con la librería Pandas para los resultados de la integración Monte Carlo para la ecuación anterior realizando $100$ realizaciones para cada uno de los valores $N$ que se muestran en la tabla siguiente. Muestre el valor estimado de la integral promedio y el resultado de máximo y mínimo de las $100$ realizaciones.\n",
    "\n",
    "|N|min|promedio|max|\n",
    "|---|---|---|---|\n",
    "|10|*|*|*|\n",
    "|100|*|*|*|\n",
    "|1000|*|*|*|\n",
    "|10000|*|*|*|"
   ]
  },
  {
   "cell_type": "code",
   "execution_count": 98,
   "metadata": {},
   "outputs": [
    {
     "data": {
      "text/html": [
       "<div>\n",
       "<style>\n",
       "    .dataframe thead tr:only-child th {\n",
       "        text-align: right;\n",
       "    }\n",
       "\n",
       "    .dataframe thead th {\n",
       "        text-align: left;\n",
       "    }\n",
       "\n",
       "    .dataframe tbody tr th {\n",
       "        vertical-align: top;\n",
       "    }\n",
       "</style>\n",
       "<table border=\"1\" class=\"dataframe\">\n",
       "  <thead>\n",
       "    <tr style=\"text-align: right;\">\n",
       "      <th></th>\n",
       "      <th>N</th>\n",
       "      <th>Min</th>\n",
       "      <th>Max</th>\n",
       "      <th>Promedio</th>\n",
       "    </tr>\n",
       "  </thead>\n",
       "  <tbody>\n",
       "    <tr>\n",
       "      <th>0</th>\n",
       "      <td>10</td>\n",
       "      <td>8.660643</td>\n",
       "      <td>16.747116</td>\n",
       "      <td>12.664541</td>\n",
       "    </tr>\n",
       "    <tr>\n",
       "      <th>1</th>\n",
       "      <td>100</td>\n",
       "      <td>11.632008</td>\n",
       "      <td>13.656935</td>\n",
       "      <td>12.582192</td>\n",
       "    </tr>\n",
       "    <tr>\n",
       "      <th>2</th>\n",
       "      <td>1000</td>\n",
       "      <td>12.327997</td>\n",
       "      <td>12.820153</td>\n",
       "      <td>12.570723</td>\n",
       "    </tr>\n",
       "    <tr>\n",
       "      <th>3</th>\n",
       "      <td>10000</td>\n",
       "      <td>12.450321</td>\n",
       "      <td>12.665473</td>\n",
       "      <td>12.569652</td>\n",
       "    </tr>\n",
       "  </tbody>\n",
       "</table>\n",
       "</div>"
      ],
      "text/plain": [
       "       N        Min        Max   Promedio\n",
       "0     10   8.660643  16.747116  12.664541\n",
       "1    100  11.632008  13.656935  12.582192\n",
       "2   1000  12.327997  12.820153  12.570723\n",
       "3  10000  12.450321  12.665473  12.569652"
      ]
     },
     "execution_count": 98,
     "metadata": {},
     "output_type": "execute_result"
    }
   ],
   "source": [
    "\n",
    "funcion = lambda x, y: np.cos(y) * x ** 2 + 1  \n",
    "N_muestras = 10 ** np.array([1, 2, 3, 4])  \n",
    "\n",
    "resultados = monte_carlo(-1, 1, -np.pi, np.pi, fn, N_muestras)\n",
    "df = pd.DataFrame(resultados)\n",
    "df.head()\n",
    "\n"
   ]
  },
  {
   "cell_type": "markdown",
   "metadata": {},
   "source": [
    "## R  =\n",
    "##### Podemos observar  en la tabla resultante que:   si consideramos mas muestras nuestra aproximacion cada vez sera mas exacta. \n"
   ]
  },
  {
   "cell_type": "markdown",
   "metadata": {},
   "source": [
    "### Comprovacion  del metodo de Monte Carlo  por medio de la integral definida.\n"
   ]
  },
  {
   "cell_type": "code",
   "execution_count": 99,
   "metadata": {},
   "outputs": [
    {
     "name": "stdout",
     "output_type": "stream",
     "text": [
      "El error relativo es: 0.0261%.\n"
     ]
    }
   ],
   "source": [
    "R_montecarlo = resultados[-1]['Promedio']  # para N = 10000 \n",
    "\n",
    "R_real = dblquad(fn, -np.pi, np.pi, lambda x: -1, lambda x: 1)[0]\n",
    "\n",
    "error_absoluto = abs(R_montecarlo - R_real)\n",
    "error_relativo = error_absoluto * 100 / R_real\n",
    "\n",
    "print('El error relativo es: {:.4f}%.'.format(error_relativo))"
   ]
  },
  {
   "cell_type": "markdown",
   "metadata": {},
   "source": [
    "## R = \n",
    "#### se obtuvo que el error de aproximacion por el Metodo de Monte Carlo es menor a 1% Cuando el numero de muestras es igual a N= 10000, esto a comparacion del obtenido con la integral definida."
   ]
  },
  {
   "cell_type": "code",
   "execution_count": null,
   "metadata": {
    "collapsed": true
   },
   "outputs": [],
   "source": []
  },
  {
   "cell_type": "markdown",
   "metadata": {},
   "source": [
    "## pregunta numero 3"
   ]
  },
  {
   "cell_type": "markdown",
   "metadata": {
    "collapsed": true
   },
   "source": [
    "**3. (10 puntos)** \n",
    "\n",
    "Grafique la funcion a integrar. \n",
    "## R ="
   ]
  },
  {
   "cell_type": "code",
   "execution_count": 100,
   "metadata": {},
   "outputs": [
    {
     "data": {
      "image/png": "[encoded data removed]",
      "text/plain": [
       "<matplotlib.figure.Figure at 0xd108106898>"
      ]
     },
     "metadata": {},
     "output_type": "display_data"
    }
   ],
   "source": [
    "fig = plt.figure()\n",
    "ax = plt.axes(projection='3d')\n",
    "x = np.linspace(-1, 1, 30)\n",
    "y = np.linspace(-np.pi, np.pi, 30)\n",
    "X, Y = np.meshgrid(x, y)\n",
    "\n",
    "Z = fn(X, Y)\n",
    "\n",
    "surf = ax.plot_surface(X, Y, Z, cmap=cm.jet, linewidth=0, antialiased=False)\n",
    "\n",
    "ax.set_xlabel('$X$',  fontsize =15)\n",
    "ax.set_ylabel('$Y$',  fontsize =15)\n",
    "\n",
    "fig.colorbar(surf, shrink=0.9, aspect=9)\n",
    "plt.show()\n"
   ]
  },
  {
   "cell_type": "code",
   "execution_count": null,
   "metadata": {
    "collapsed": true
   },
   "outputs": [],
   "source": []
  },
  {
   "cell_type": "markdown",
   "metadata": {},
   "source": [
    "## Primer punto (50 puntos)\n",
    "\n",
    "## Ley del enfriamiento de Newton\n",
    "\n",
    "La ley empírica de Newton, relativa al enfriamiento de un objeto, se expresa con la ecuación diferencial lineal de primer orden\n",
    "\n",
    "$$\\frac{dT}{dt} = k(T - T_m)$$\n",
    "\n",
    "en que $k$ es una constante de proporcionalidad, $T(t)$ es la temperatura del objeto cuando $t > 0$ y $T_m$ es la temperatura ambiente; o sea, la temperatura del medio que rodea al objeto. Supondremos que $T_m$ es constante."
   ]
  },
  {
   "cell_type": "markdown",
   "metadata": {},
   "source": [
    "## <font color = red> Problema 2 <font>\n",
    "\n",
    "### ¿Cuánto esperar para comenzar a comer pastel?\n",
    "\n",
    "Al sacar un pastel del horno, su temperatura es $280°\\ C$. Después de $3$ minutos, $200°\\ C$. ¿En cuanto tiempo se enfriará hasta la temperatura ambiente de $28°\\ C$? Realiza las siguientes actividades:\n",
    "\n",
    "\n",
    "**1. (5 puntos)** \n",
    "\n",
    "\n",
    "\n",
    "- Simule el sistema en un tiempo de $0$ a $60$ unidades de tiempo con una constante de proporcionalidad $k = -0.14518$.\n",
    "- Grafique la solución."
   ]
  },
  {
   "cell_type": "code",
   "execution_count": null,
   "metadata": {
    "collapsed": true
   },
   "outputs": [],
   "source": []
  },
  {
   "cell_type": "markdown",
   "metadata": {},
   "source": [
    "## pregunta numero 1, segundo eje."
   ]
  },
  {
   "cell_type": "code",
   "execution_count": 184,
   "metadata": {
    "collapsed": true
   },
   "outputs": [],
   "source": [
    "\n",
    "def Leyenfriamiento(t, T_0, T_A, constprop): \n",
    "    T = T_A + (T_0 - T_A) * np.exp(constprop * t)  \n",
    "    return T\n"
   ]
  },
  {
   "cell_type": "code",
   "execution_count": 185,
   "metadata": {
    "collapsed": true
   },
   "outputs": [],
   "source": [
    "def grafica():\n",
    "    plt.xlabel('tiempo', fontsize =15)\n",
    "    plt.ylabel('Temperatura', fontsize =15)\n",
    "\n",
    "    axes = plt.gca()\n",
    "    axes.set_xlim([0, t_final])\n",
    "    axes.set_ylim([0, 300])\n",
    "    plt.grid(True, lw=0.5, ls='--', c='0.75')  \n",
    "    plt.legend()\n",
    "    plt.show()"
   ]
  },
  {
   "cell_type": "code",
   "execution_count": 186,
   "metadata": {},
   "outputs": [
    {
     "data": {
      "image/png": "[encoded data removed]",
      "text/plain": [
       "<matplotlib.figure.Figure at 0xd108b41b70>"
      ]
     },
     "metadata": {},
     "output_type": "display_data"
    }
   ],
   "source": [
    "T_0, T_A = 280, 28  \n",
    "k = -0.14518 \n",
    "\n",
    "t_0, t_final = 0, 60 \n",
    "t = np.linspace(t_0, t_final, t_final - t_0 + 1)\n",
    "\n",
    "T = Leyenfriamiento(t, T_0, T_A, k)\n",
    "\n",
    "plt.plot(t, T, label=' pastel')\n",
    "plt.plot(t, T_A * np.ones(t_final - t_0 + 1), label='ambiente', color='red')\n",
    "grafica()"
   ]
  },
  {
   "cell_type": "code",
   "execution_count": null,
   "metadata": {
    "collapsed": true
   },
   "outputs": [],
   "source": []
  },
  {
   "cell_type": "code",
   "execution_count": null,
   "metadata": {
    "collapsed": true
   },
   "outputs": [],
   "source": []
  },
  {
   "cell_type": "markdown",
   "metadata": {},
   "source": [
    "## pregunta numero 2, segundo eje."
   ]
  },
  {
   "cell_type": "markdown",
   "metadata": {
    "collapsed": true
   },
   "source": [
    "**2. (20 puntos)**\n",
    "- Supoga que cada unidad de tiempo corresponde a un minuto. ¿Qué temperatura tiene en el minuto $20$?\n",
    "- Ahora simula tu sistema utilizando una variable aleatoria para la temperatura inicial $T_0$ con una distribución normal de media $280$ y una desviación estándar de $15$. Realiza $100$ realizaciones.\n",
    "- Grafica las $100$ realizaciones."
   ]
  },
  {
   "cell_type": "code",
   "execution_count": 196,
   "metadata": {},
   "outputs": [
    {
     "data": {
      "image/png": "[encoded data removed]",
      "text/plain": [
       "<matplotlib.figure.Figure at 0xd108120b00>"
      ]
     },
     "metadata": {},
     "output_type": "display_data"
    }
   ],
   "source": [
    "N_repe = 100  \n",
    "temeperaturas= []  \n",
    "\n",
    "for _ in range(N_repe):\n",
    "    \n",
    "    T_0 = np.random.normal(280.0, 15.0)\n",
    "    T = Leyenfriamiento(t, T_0, T_A, k)\n",
    "    \n",
    "    temps.append(T[20])\n",
    "\n",
    "    plt.plot(t, T, )\n",
    "plt.plot(t, T_A * np.ones(t_final - t_0 + 1), label='ambiente', color='yellow')\n",
    "grafica()"
   ]
  },
  {
   "cell_type": "markdown",
   "metadata": {},
   "source": [
    "## R= la temperatura en el minuto 20 es de 42° aproximadamente"
   ]
  },
  {
   "cell_type": "code",
   "execution_count": 189,
   "metadata": {},
   "outputs": [
    {
     "data": {
      "text/plain": [
       "42.020936866367087"
      ]
     },
     "execution_count": 189,
     "metadata": {},
     "output_type": "execute_result"
    }
   ],
   "source": [
    "T[20]"
   ]
  },
  {
   "cell_type": "code",
   "execution_count": null,
   "metadata": {
    "collapsed": true
   },
   "outputs": [],
   "source": []
  },
  {
   "cell_type": "markdown",
   "metadata": {},
   "source": [
    "## pregunta numero 3, segundo eje."
   ]
  },
  {
   "cell_type": "markdown",
   "metadata": {
    "collapsed": true
   },
   "source": [
    "**3. (25 puntos)**\n",
    "- De las $100$ realizaciones, ¿cuál es la temperatura promedio en el minuto $20$?\n",
    "- ¿Cuál es la desviacián estándar de los valores anteriores?"
   ]
  },
  {
   "cell_type": "markdown",
   "metadata": {},
   "source": [
    "## R= "
   ]
  },
  {
   "cell_type": "code",
   "execution_count": 190,
   "metadata": {},
   "outputs": [
    {
     "name": "stdout",
     "output_type": "stream",
     "text": [
      "¿cuál es la temperatura promedio en el minuto  20 ? 41.7404° .\n"
     ]
    }
   ],
   "source": [
    "print('¿cuál es la temperatura promedio en el minuto  20 ? {:.4f}° .'.format(np.mean(temps)))\n"
   ]
  },
  {
   "cell_type": "code",
   "execution_count": 191,
   "metadata": {},
   "outputs": [
    {
     "name": "stdout",
     "output_type": "stream",
     "text": [
      "¿Cuál es la desviacián estándar de los valores anteriores? 0.8054° \n"
     ]
    }
   ],
   "source": [
    "print('¿Cuál es la desviacián estándar de los valores anteriores? {:.4f}° '.format(np.std(temps)))"
   ]
  },
  {
   "cell_type": "markdown",
   "metadata": {},
   "source": [
    "<script>\n",
    "  $(document).ready(function(){\n",
    "    $('div.prompt').hide();\n",
    "    $('div.back-to-top').hide();\n",
    "    $('nav#menubar').hide();\n",
    "    $('.breadcrumb').hide();\n",
    "    $('.hidden-print').hide();\n",
    "  });\n",
    "</script>\n",
    "\n",
    "<footer id=\"attribution\" style=\"float:right; color:#808080; background:#fff;\">\n",
    "Created with Jupyter by Michel Emanuel López Franco.\n",
    "</footer>"
   ]
  },
  {
   "cell_type": "code",
   "execution_count": null,
   "metadata": {
    "collapsed": true
   },
   "outputs": [],
   "source": [
    "\n"
   ]
  },
  {
   "cell_type": "code",
   "execution_count": null,
   "metadata": {
    "collapsed": true
   },
   "outputs": [],
   "source": []
  }
 ],
 "metadata": {
  "hide_input": false,
  "kernelspec": {
   "display_name": "Python 3",
   "language": "python",
   "name": "python3"
  },
  "language_info": {
   "codemirror_mode": {
    "name": "ipython",
    "version": 3
   },
   "file_extension": ".py",
   "mimetype": "text/x-python",
   "name": "python",
   "nbconvert_exporter": "python",
   "pygments_lexer": "ipython3",
   "version": "3.6.1"
  },
  "toc": {
   "nav_menu": {},
   "number_sections": true,
   "sideBar": true,
   "skip_h1_title": false,
   "toc_cell": false,
   "toc_position": {},
   "toc_section_display": "block",
   "toc_window_display": false
  },
  "varInspector": {
   "cols": {
    "lenName": 16,
    "lenType": 16,
    "lenVar": 40
   },
   "kernels_config": {
    "python": {
     "delete_cmd_postfix": "",
     "delete_cmd_prefix": "del ",
     "library": "var_list.py",
     "varRefreshCmd": "print(var_dic_list())"
    },
    "r": {
     "delete_cmd_postfix": ") ",
     "delete_cmd_prefix": "rm(",
     "library": "var_list.r",
     "varRefreshCmd": "cat(var_dic_list()) "
    }
   },
   "types_to_exclude": [
    "module",
    "function",
    "builtin_function_or_method",
    "instance",
    "_Feature"
   ],
   "window_display": false
  },
  "widgets": {
   "state": {
    "953c92b52019446ea21b2c969ac3716b": {
     "views": [
      {
       "cell_index": 11
      }
     ]
    },
    "9a6935292a92418a8d3ef2a4f90b19bd": {
     "views": [
      {
       "cell_index": 5
      }
     ]
    }
   },
   "version": "1.2.0"
  }
 },
 "nbformat": 4,
 "nbformat_minor": 2
}
